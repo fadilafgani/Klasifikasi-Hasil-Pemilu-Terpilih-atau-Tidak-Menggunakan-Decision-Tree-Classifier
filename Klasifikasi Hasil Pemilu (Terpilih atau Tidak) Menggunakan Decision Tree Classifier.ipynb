{
 "cells": [
  {
   "cell_type": "code",
   "execution_count": 1,
   "metadata": {},
   "outputs": [],
   "source": [
    "#import library\n",
    "import numpy as np # linear algebra\n",
    "import pandas as pd # data processing, CSV file I/O (e.g. pd.read_csv)\n",
    "import matplotlib.pyplot as plt # data visualization\n",
    "import seaborn as sns # statistical data visualization\n",
    "%matplotlib inline\n",
    "import warnings\n",
    "warnings.filterwarnings('ignore')"
   ]
  },
  {
   "cell_type": "code",
   "execution_count": 2,
   "metadata": {},
   "outputs": [],
   "source": [
    "#import dataset\n",
    "df = pd.read_csv(\"datapemilukpu-dki-2009.csv\")"
   ]
  },
  {
   "cell_type": "code",
   "execution_count": 3,
   "metadata": {},
   "outputs": [
    {
     "data": {
      "text/plain": [
       "(2268, 12)"
      ]
     },
     "execution_count": 3,
     "metadata": {},
     "output_type": "execute_result"
    }
   ],
   "source": [
    "#exploratory dataset\n",
    "# view dimensions of dataset\n",
    "\n",
    "df.shape"
   ]
  },
  {
   "cell_type": "code",
   "execution_count": 4,
   "metadata": {},
   "outputs": [
    {
     "data": {
      "text/html": [
       "<div>\n",
       "<style scoped>\n",
       "    .dataframe tbody tr th:only-of-type {\n",
       "        vertical-align: middle;\n",
       "    }\n",
       "\n",
       "    .dataframe tbody tr th {\n",
       "        vertical-align: top;\n",
       "    }\n",
       "\n",
       "    .dataframe thead th {\n",
       "        text-align: right;\n",
       "    }\n",
       "</style>\n",
       "<table border=\"1\" class=\"dataframe\">\n",
       "  <thead>\n",
       "    <tr style=\"text-align: right;\">\n",
       "      <th></th>\n",
       "      <th>no</th>\n",
       "      <th>Nama Partai</th>\n",
       "      <th>Nama Calon Legislatif</th>\n",
       "      <th>Jenis KeLamin</th>\n",
       "      <th>Kecamatan</th>\n",
       "      <th>No Urut Parpol</th>\n",
       "      <th>Suara Sah Partai</th>\n",
       "      <th>Jumlah Perolehan Kursi</th>\n",
       "      <th>Daerah Pemilihan</th>\n",
       "      <th>No Urut Caleg</th>\n",
       "      <th>Suara Sah Caleg</th>\n",
       "      <th>Terpilih atau Tidak</th>\n",
       "    </tr>\n",
       "  </thead>\n",
       "  <tbody>\n",
       "    <tr>\n",
       "      <th>0</th>\n",
       "      <td>1</td>\n",
       "      <td>Partai Hati Nurani Rakyat</td>\n",
       "      <td>H. Jamaluddin Lamanda, SH</td>\n",
       "      <td>L</td>\n",
       "      <td>Kota Administrasi Jakarta Utara</td>\n",
       "      <td>1</td>\n",
       "      <td>20917</td>\n",
       "      <td>6</td>\n",
       "      <td>DP-1</td>\n",
       "      <td>1</td>\n",
       "      <td>2425</td>\n",
       "      <td>TIDAK</td>\n",
       "    </tr>\n",
       "    <tr>\n",
       "      <th>1</th>\n",
       "      <td>2</td>\n",
       "      <td>Partai Hati Nurani Rakyat</td>\n",
       "      <td>Suprawito</td>\n",
       "      <td>L</td>\n",
       "      <td>Kota Administrasi Jakarta Utara</td>\n",
       "      <td>1</td>\n",
       "      <td>20917</td>\n",
       "      <td>6</td>\n",
       "      <td>DP-1</td>\n",
       "      <td>2</td>\n",
       "      <td>3348</td>\n",
       "      <td>YA</td>\n",
       "    </tr>\n",
       "    <tr>\n",
       "      <th>2</th>\n",
       "      <td>3</td>\n",
       "      <td>Partai Hati Nurani Rakyat</td>\n",
       "      <td>Hj. Endang Barnita</td>\n",
       "      <td>P</td>\n",
       "      <td>Kota Administrasi Jakarta Utara</td>\n",
       "      <td>1</td>\n",
       "      <td>20917</td>\n",
       "      <td>6</td>\n",
       "      <td>DP-1</td>\n",
       "      <td>3</td>\n",
       "      <td>470</td>\n",
       "      <td>TIDAK</td>\n",
       "    </tr>\n",
       "    <tr>\n",
       "      <th>3</th>\n",
       "      <td>4</td>\n",
       "      <td>Partai Hati Nurani Rakyat</td>\n",
       "      <td>Syarifuddin</td>\n",
       "      <td>L</td>\n",
       "      <td>Kota Administrasi Jakarta Utara</td>\n",
       "      <td>1</td>\n",
       "      <td>20917</td>\n",
       "      <td>6</td>\n",
       "      <td>DP-1</td>\n",
       "      <td>4</td>\n",
       "      <td>424</td>\n",
       "      <td>TIDAK</td>\n",
       "    </tr>\n",
       "    <tr>\n",
       "      <th>4</th>\n",
       "      <td>5</td>\n",
       "      <td>Partai Hati Nurani Rakyat</td>\n",
       "      <td>Iksan S. Chaeruddin</td>\n",
       "      <td>L</td>\n",
       "      <td>Kota Administrasi Jakarta Utara</td>\n",
       "      <td>1</td>\n",
       "      <td>20917</td>\n",
       "      <td>6</td>\n",
       "      <td>DP-1</td>\n",
       "      <td>5</td>\n",
       "      <td>959</td>\n",
       "      <td>TIDAK</td>\n",
       "    </tr>\n",
       "  </tbody>\n",
       "</table>\n",
       "</div>"
      ],
      "text/plain": [
       "   no                Nama Partai      Nama Calon Legislatif Jenis KeLamin  \\\n",
       "0   1  Partai Hati Nurani Rakyat  H. Jamaluddin Lamanda, SH             L   \n",
       "1   2  Partai Hati Nurani Rakyat                  Suprawito             L   \n",
       "2   3  Partai Hati Nurani Rakyat         Hj. Endang Barnita             P   \n",
       "3   4  Partai Hati Nurani Rakyat                Syarifuddin             L   \n",
       "4   5  Partai Hati Nurani Rakyat        Iksan S. Chaeruddin             L   \n",
       "\n",
       "                         Kecamatan  No Urut Parpol Suara Sah Partai  \\\n",
       "0  Kota Administrasi Jakarta Utara               1            20917   \n",
       "1  Kota Administrasi Jakarta Utara               1            20917   \n",
       "2  Kota Administrasi Jakarta Utara               1            20917   \n",
       "3  Kota Administrasi Jakarta Utara               1            20917   \n",
       "4  Kota Administrasi Jakarta Utara               1            20917   \n",
       "\n",
       "   Jumlah Perolehan Kursi Daerah Pemilihan  No Urut Caleg Suara Sah Caleg  \\\n",
       "0                       6             DP-1              1            2425   \n",
       "1                       6             DP-1              2            3348   \n",
       "2                       6             DP-1              3             470   \n",
       "3                       6             DP-1              4             424   \n",
       "4                       6             DP-1              5             959   \n",
       "\n",
       "  Terpilih atau Tidak  \n",
       "0               TIDAK  \n",
       "1                  YA  \n",
       "2               TIDAK  \n",
       "3               TIDAK  \n",
       "4               TIDAK  "
      ]
     },
     "execution_count": 4,
     "metadata": {},
     "output_type": "execute_result"
    }
   ],
   "source": [
    "# preview the dataset\n",
    "df.head()"
   ]
  },
  {
   "cell_type": "code",
   "execution_count": 5,
   "metadata": {},
   "outputs": [
    {
     "name": "stdout",
     "output_type": "stream",
     "text": [
      "<class 'pandas.core.frame.DataFrame'>\n",
      "RangeIndex: 2268 entries, 0 to 2267\n",
      "Data columns (total 12 columns):\n",
      " #   Column                  Non-Null Count  Dtype \n",
      "---  ------                  --------------  ----- \n",
      " 0   no                      2268 non-null   int64 \n",
      " 1   Nama Partai             2268 non-null   object\n",
      " 2   Nama Calon Legislatif   2268 non-null   object\n",
      " 3   Jenis KeLamin           2268 non-null   object\n",
      " 4   Kecamatan               2267 non-null   object\n",
      " 5   No Urut Parpol          2268 non-null   int64 \n",
      " 6   Suara Sah Partai        2268 non-null   object\n",
      " 7   Jumlah Perolehan Kursi  2268 non-null   int64 \n",
      " 8   Daerah Pemilihan        2268 non-null   object\n",
      " 9   No Urut Caleg           2268 non-null   int64 \n",
      " 10  Suara Sah Caleg         2268 non-null   object\n",
      " 11  Terpilih atau Tidak     2268 non-null   object\n",
      "dtypes: int64(4), object(8)\n",
      "memory usage: 212.8+ KB\n"
     ]
    }
   ],
   "source": [
    "#View summary of dataset\n",
    "df.info()"
   ]
  },
  {
   "cell_type": "code",
   "execution_count": 6,
   "metadata": {},
   "outputs": [
    {
     "data": {
      "text/plain": [
       "TIDAK    2174\n",
       "YA         94\n",
       "Name: Terpilih atau Tidak, dtype: int64"
      ]
     },
     "execution_count": 6,
     "metadata": {},
     "output_type": "execute_result"
    }
   ],
   "source": [
    "df['Terpilih atau Tidak'].value_counts()"
   ]
  },
  {
   "cell_type": "code",
   "execution_count": 7,
   "metadata": {},
   "outputs": [
    {
     "data": {
      "text/plain": [
       "no                        0\n",
       "Nama Partai               0\n",
       "Nama Calon Legislatif     0\n",
       "Jenis KeLamin             0\n",
       "Kecamatan                 1\n",
       "No Urut Parpol            0\n",
       "Suara Sah Partai          0\n",
       "Jumlah Perolehan Kursi    0\n",
       "Daerah Pemilihan          0\n",
       "No Urut Caleg             0\n",
       "Suara Sah Caleg           0\n",
       "Terpilih atau Tidak       0\n",
       "dtype: int64"
      ]
     },
     "execution_count": 7,
     "metadata": {},
     "output_type": "execute_result"
    }
   ],
   "source": [
    "#cek missing value\n",
    "df.isnull().sum()"
   ]
  },
  {
   "cell_type": "code",
   "execution_count": 8,
   "metadata": {},
   "outputs": [],
   "source": [
    "#drop missing value\n",
    "df = df.dropna()"
   ]
  },
  {
   "cell_type": "code",
   "execution_count": 9,
   "metadata": {},
   "outputs": [
    {
     "data": {
      "text/plain": [
       "no                        0\n",
       "Nama Partai               0\n",
       "Nama Calon Legislatif     0\n",
       "Jenis KeLamin             0\n",
       "Kecamatan                 0\n",
       "No Urut Parpol            0\n",
       "Suara Sah Partai          0\n",
       "Jumlah Perolehan Kursi    0\n",
       "Daerah Pemilihan          0\n",
       "No Urut Caleg             0\n",
       "Suara Sah Caleg           0\n",
       "Terpilih atau Tidak       0\n",
       "dtype: int64"
      ]
     },
     "execution_count": 9,
     "metadata": {},
     "output_type": "execute_result"
    }
   ],
   "source": [
    "df.isnull().sum()"
   ]
  },
  {
   "cell_type": "code",
   "execution_count": 10,
   "metadata": {},
   "outputs": [],
   "source": [
    "#Declare feature vector and target variable \n",
    "X = df.drop(['Terpilih atau Tidak'], axis=1)\n",
    "y = df['Terpilih atau Tidak']"
   ]
  },
  {
   "cell_type": "code",
   "execution_count": 11,
   "metadata": {},
   "outputs": [],
   "source": [
    "#Split data into separate training and test set \n",
    "# split X and y into training and testing sets\n",
    "from sklearn.model_selection import train_test_split\n",
    "X_train, X_test, y_train, y_test = train_test_split(X, y, test_size = 0.33, random_state = 42)"
   ]
  },
  {
   "cell_type": "code",
   "execution_count": 12,
   "metadata": {},
   "outputs": [
    {
     "data": {
      "text/plain": [
       "((1518, 11), (749, 11))"
      ]
     },
     "execution_count": 12,
     "metadata": {},
     "output_type": "execute_result"
    }
   ],
   "source": [
    "# check the shape of X_train and X_test\n",
    "X_train.shape, X_test.shape"
   ]
  },
  {
   "cell_type": "code",
   "execution_count": 13,
   "metadata": {},
   "outputs": [
    {
     "data": {
      "text/plain": [
       "no                         int64\n",
       "Nama Partai               object\n",
       "Nama Calon Legislatif     object\n",
       "Jenis KeLamin             object\n",
       "Kecamatan                 object\n",
       "No Urut Parpol             int64\n",
       "Suara Sah Partai          object\n",
       "Jumlah Perolehan Kursi     int64\n",
       "Daerah Pemilihan          object\n",
       "No Urut Caleg              int64\n",
       "Suara Sah Caleg           object\n",
       "dtype: object"
      ]
     },
     "execution_count": 13,
     "metadata": {},
     "output_type": "execute_result"
    }
   ],
   "source": [
    "#Feature Engineering\n",
    "# check data types in X_train\n",
    "X_train.dtypes"
   ]
  },
  {
   "cell_type": "code",
   "execution_count": 14,
   "metadata": {},
   "outputs": [
    {
     "data": {
      "text/html": [
       "<div>\n",
       "<style scoped>\n",
       "    .dataframe tbody tr th:only-of-type {\n",
       "        vertical-align: middle;\n",
       "    }\n",
       "\n",
       "    .dataframe tbody tr th {\n",
       "        vertical-align: top;\n",
       "    }\n",
       "\n",
       "    .dataframe thead th {\n",
       "        text-align: right;\n",
       "    }\n",
       "</style>\n",
       "<table border=\"1\" class=\"dataframe\">\n",
       "  <thead>\n",
       "    <tr style=\"text-align: right;\">\n",
       "      <th></th>\n",
       "      <th>no</th>\n",
       "      <th>Nama Partai</th>\n",
       "      <th>Nama Calon Legislatif</th>\n",
       "      <th>Jenis KeLamin</th>\n",
       "      <th>Kecamatan</th>\n",
       "      <th>No Urut Parpol</th>\n",
       "      <th>Suara Sah Partai</th>\n",
       "      <th>Jumlah Perolehan Kursi</th>\n",
       "      <th>Daerah Pemilihan</th>\n",
       "      <th>No Urut Caleg</th>\n",
       "      <th>Suara Sah Caleg</th>\n",
       "    </tr>\n",
       "  </thead>\n",
       "  <tbody>\n",
       "    <tr>\n",
       "      <th>292</th>\n",
       "      <td>293</td>\n",
       "      <td>Partai Gerakan Indonesia Raya</td>\n",
       "      <td>Djajang M. Zakaria</td>\n",
       "      <td>L</td>\n",
       "      <td>Kota Administrasi Jakarta Utara</td>\n",
       "      <td>5</td>\n",
       "      <td>35464</td>\n",
       "      <td>6</td>\n",
       "      <td>DP-1</td>\n",
       "      <td>7</td>\n",
       "      <td>522</td>\n",
       "    </tr>\n",
       "    <tr>\n",
       "      <th>973</th>\n",
       "      <td>974</td>\n",
       "      <td>Partai Demokrasi Pembaruan</td>\n",
       "      <td>Mira Fitri</td>\n",
       "      <td>P</td>\n",
       "      <td>Kota Administrasi Jakarta Selatan</td>\n",
       "      <td>16</td>\n",
       "      <td>4827</td>\n",
       "      <td>0</td>\n",
       "      <td>DP-4</td>\n",
       "      <td>15</td>\n",
       "      <td>31</td>\n",
       "    </tr>\n",
       "    <tr>\n",
       "      <th>1578</th>\n",
       "      <td>1579</td>\n",
       "      <td>Partai Bulan Bintang</td>\n",
       "      <td>Drs. SODIKIN</td>\n",
       "      <td>L</td>\n",
       "      <td>Kota Administrasi Jakarta Utara</td>\n",
       "      <td>27</td>\n",
       "      <td>5691</td>\n",
       "      <td>0</td>\n",
       "      <td>DP-1</td>\n",
       "      <td>10</td>\n",
       "      <td>171</td>\n",
       "    </tr>\n",
       "    <tr>\n",
       "      <th>1604</th>\n",
       "      <td>1605</td>\n",
       "      <td>Partai Bulan Bintang</td>\n",
       "      <td>SUGIYANTO HADISUMARNO</td>\n",
       "      <td>L</td>\n",
       "      <td>Kota Administrasi Jakarta Timur</td>\n",
       "      <td>27</td>\n",
       "      <td>8385</td>\n",
       "      <td>0</td>\n",
       "      <td>DP-3</td>\n",
       "      <td>10</td>\n",
       "      <td>180</td>\n",
       "    </tr>\n",
       "    <tr>\n",
       "      <th>1233</th>\n",
       "      <td>1234</td>\n",
       "      <td>Partai Golkar</td>\n",
       "      <td>H. MUSLIM SUMARDIONO, SH.</td>\n",
       "      <td>L</td>\n",
       "      <td>Kota Administrasi Jakarta Pusat</td>\n",
       "      <td>23</td>\n",
       "      <td>25214</td>\n",
       "      <td>7</td>\n",
       "      <td>DP-2</td>\n",
       "      <td>5</td>\n",
       "      <td>861</td>\n",
       "    </tr>\n",
       "  </tbody>\n",
       "</table>\n",
       "</div>"
      ],
      "text/plain": [
       "        no                    Nama Partai      Nama Calon Legislatif  \\\n",
       "292    293  Partai Gerakan Indonesia Raya         Djajang M. Zakaria   \n",
       "973    974     Partai Demokrasi Pembaruan                 Mira Fitri   \n",
       "1578  1579           Partai Bulan Bintang               Drs. SODIKIN   \n",
       "1604  1605           Partai Bulan Bintang      SUGIYANTO HADISUMARNO   \n",
       "1233  1234                  Partai Golkar  H. MUSLIM SUMARDIONO, SH.   \n",
       "\n",
       "     Jenis KeLamin                          Kecamatan  No Urut Parpol  \\\n",
       "292              L    Kota Administrasi Jakarta Utara               5   \n",
       "973              P  Kota Administrasi Jakarta Selatan              16   \n",
       "1578             L    Kota Administrasi Jakarta Utara              27   \n",
       "1604             L    Kota Administrasi Jakarta Timur              27   \n",
       "1233             L    Kota Administrasi Jakarta Pusat              23   \n",
       "\n",
       "     Suara Sah Partai  Jumlah Perolehan Kursi Daerah Pemilihan  No Urut Caleg  \\\n",
       "292             35464                       6             DP-1              7   \n",
       "973              4827                       0             DP-4             15   \n",
       "1578             5691                       0             DP-1             10   \n",
       "1604             8385                       0             DP-3             10   \n",
       "1233            25214                       7             DP-2              5   \n",
       "\n",
       "     Suara Sah Caleg  \n",
       "292              522  \n",
       "973               31  \n",
       "1578             171  \n",
       "1604             180  \n",
       "1233             861  "
      ]
     },
     "execution_count": 14,
     "metadata": {},
     "output_type": "execute_result"
    }
   ],
   "source": [
    "X_train.head()"
   ]
  },
  {
   "cell_type": "code",
   "execution_count": 15,
   "metadata": {},
   "outputs": [],
   "source": [
    "# import category encoders\n",
    "import category_encoders as ce"
   ]
  },
  {
   "cell_type": "code",
   "execution_count": 16,
   "metadata": {},
   "outputs": [],
   "source": [
    "# encode variables with ordinal encoding\n",
    "encoder = ce.OrdinalEncoder(cols=['no', 'Nama Partai', 'Nama Calon Legislatif', 'Jenis KeLamin', 'Kecamatan', 'No Urut Parpol', 'Suara Sah Partai', 'Jumlah Perolehan Kursi', 'Daerah Pemilihan', 'No Urut Caleg', 'Suara Sah Caleg'])\n",
    "\n",
    "X_train = encoder.fit_transform(X_train)\n",
    "X_test = encoder.transform(X_test)"
   ]
  },
  {
   "cell_type": "code",
   "execution_count": 17,
   "metadata": {},
   "outputs": [
    {
     "data": {
      "text/html": [
       "<div>\n",
       "<style scoped>\n",
       "    .dataframe tbody tr th:only-of-type {\n",
       "        vertical-align: middle;\n",
       "    }\n",
       "\n",
       "    .dataframe tbody tr th {\n",
       "        vertical-align: top;\n",
       "    }\n",
       "\n",
       "    .dataframe thead th {\n",
       "        text-align: right;\n",
       "    }\n",
       "</style>\n",
       "<table border=\"1\" class=\"dataframe\">\n",
       "  <thead>\n",
       "    <tr style=\"text-align: right;\">\n",
       "      <th></th>\n",
       "      <th>no</th>\n",
       "      <th>Nama Partai</th>\n",
       "      <th>Nama Calon Legislatif</th>\n",
       "      <th>Jenis KeLamin</th>\n",
       "      <th>Kecamatan</th>\n",
       "      <th>No Urut Parpol</th>\n",
       "      <th>Suara Sah Partai</th>\n",
       "      <th>Jumlah Perolehan Kursi</th>\n",
       "      <th>Daerah Pemilihan</th>\n",
       "      <th>No Urut Caleg</th>\n",
       "      <th>Suara Sah Caleg</th>\n",
       "    </tr>\n",
       "  </thead>\n",
       "  <tbody>\n",
       "    <tr>\n",
       "      <th>292</th>\n",
       "      <td>1</td>\n",
       "      <td>1</td>\n",
       "      <td>1</td>\n",
       "      <td>1</td>\n",
       "      <td>1</td>\n",
       "      <td>1</td>\n",
       "      <td>1</td>\n",
       "      <td>1</td>\n",
       "      <td>1</td>\n",
       "      <td>1</td>\n",
       "      <td>1</td>\n",
       "    </tr>\n",
       "    <tr>\n",
       "      <th>973</th>\n",
       "      <td>2</td>\n",
       "      <td>2</td>\n",
       "      <td>2</td>\n",
       "      <td>2</td>\n",
       "      <td>2</td>\n",
       "      <td>2</td>\n",
       "      <td>2</td>\n",
       "      <td>2</td>\n",
       "      <td>2</td>\n",
       "      <td>2</td>\n",
       "      <td>2</td>\n",
       "    </tr>\n",
       "    <tr>\n",
       "      <th>1578</th>\n",
       "      <td>3</td>\n",
       "      <td>3</td>\n",
       "      <td>3</td>\n",
       "      <td>1</td>\n",
       "      <td>1</td>\n",
       "      <td>3</td>\n",
       "      <td>3</td>\n",
       "      <td>2</td>\n",
       "      <td>1</td>\n",
       "      <td>3</td>\n",
       "      <td>3</td>\n",
       "    </tr>\n",
       "    <tr>\n",
       "      <th>1604</th>\n",
       "      <td>4</td>\n",
       "      <td>3</td>\n",
       "      <td>4</td>\n",
       "      <td>1</td>\n",
       "      <td>3</td>\n",
       "      <td>3</td>\n",
       "      <td>4</td>\n",
       "      <td>2</td>\n",
       "      <td>3</td>\n",
       "      <td>3</td>\n",
       "      <td>4</td>\n",
       "    </tr>\n",
       "    <tr>\n",
       "      <th>1233</th>\n",
       "      <td>5</td>\n",
       "      <td>4</td>\n",
       "      <td>5</td>\n",
       "      <td>1</td>\n",
       "      <td>4</td>\n",
       "      <td>4</td>\n",
       "      <td>5</td>\n",
       "      <td>3</td>\n",
       "      <td>4</td>\n",
       "      <td>4</td>\n",
       "      <td>5</td>\n",
       "    </tr>\n",
       "  </tbody>\n",
       "</table>\n",
       "</div>"
      ],
      "text/plain": [
       "      no  Nama Partai  Nama Calon Legislatif  Jenis KeLamin  Kecamatan  \\\n",
       "292    1            1                      1              1          1   \n",
       "973    2            2                      2              2          2   \n",
       "1578   3            3                      3              1          1   \n",
       "1604   4            3                      4              1          3   \n",
       "1233   5            4                      5              1          4   \n",
       "\n",
       "      No Urut Parpol  Suara Sah Partai  Jumlah Perolehan Kursi  \\\n",
       "292                1                 1                       1   \n",
       "973                2                 2                       2   \n",
       "1578               3                 3                       2   \n",
       "1604               3                 4                       2   \n",
       "1233               4                 5                       3   \n",
       "\n",
       "      Daerah Pemilihan  No Urut Caleg  Suara Sah Caleg  \n",
       "292                  1              1                1  \n",
       "973                  2              2                2  \n",
       "1578                 1              3                3  \n",
       "1604                 3              3                4  \n",
       "1233                 4              4                5  "
      ]
     },
     "execution_count": 17,
     "metadata": {},
     "output_type": "execute_result"
    }
   ],
   "source": [
    "X_train.head()"
   ]
  },
  {
   "cell_type": "code",
   "execution_count": 18,
   "metadata": {},
   "outputs": [
    {
     "data": {
      "text/html": [
       "<div>\n",
       "<style scoped>\n",
       "    .dataframe tbody tr th:only-of-type {\n",
       "        vertical-align: middle;\n",
       "    }\n",
       "\n",
       "    .dataframe tbody tr th {\n",
       "        vertical-align: top;\n",
       "    }\n",
       "\n",
       "    .dataframe thead th {\n",
       "        text-align: right;\n",
       "    }\n",
       "</style>\n",
       "<table border=\"1\" class=\"dataframe\">\n",
       "  <thead>\n",
       "    <tr style=\"text-align: right;\">\n",
       "      <th></th>\n",
       "      <th>no</th>\n",
       "      <th>Nama Partai</th>\n",
       "      <th>Nama Calon Legislatif</th>\n",
       "      <th>Jenis KeLamin</th>\n",
       "      <th>Kecamatan</th>\n",
       "      <th>No Urut Parpol</th>\n",
       "      <th>Suara Sah Partai</th>\n",
       "      <th>Jumlah Perolehan Kursi</th>\n",
       "      <th>Daerah Pemilihan</th>\n",
       "      <th>No Urut Caleg</th>\n",
       "      <th>Suara Sah Caleg</th>\n",
       "    </tr>\n",
       "  </thead>\n",
       "  <tbody>\n",
       "    <tr>\n",
       "      <th>188</th>\n",
       "      <td>-1.0</td>\n",
       "      <td>26</td>\n",
       "      <td>-1.0</td>\n",
       "      <td>1</td>\n",
       "      <td>2</td>\n",
       "      <td>26</td>\n",
       "      <td>46.0</td>\n",
       "      <td>2</td>\n",
       "      <td>2</td>\n",
       "      <td>1</td>\n",
       "      <td>156.0</td>\n",
       "    </tr>\n",
       "    <tr>\n",
       "      <th>809</th>\n",
       "      <td>-1.0</td>\n",
       "      <td>29</td>\n",
       "      <td>-1.0</td>\n",
       "      <td>1</td>\n",
       "      <td>4</td>\n",
       "      <td>29</td>\n",
       "      <td>85.0</td>\n",
       "      <td>8</td>\n",
       "      <td>4</td>\n",
       "      <td>7</td>\n",
       "      <td>-1.0</td>\n",
       "    </tr>\n",
       "    <tr>\n",
       "      <th>1584</th>\n",
       "      <td>-1.0</td>\n",
       "      <td>3</td>\n",
       "      <td>-1.0</td>\n",
       "      <td>1</td>\n",
       "      <td>4</td>\n",
       "      <td>3</td>\n",
       "      <td>106.0</td>\n",
       "      <td>2</td>\n",
       "      <td>4</td>\n",
       "      <td>5</td>\n",
       "      <td>-1.0</td>\n",
       "    </tr>\n",
       "    <tr>\n",
       "      <th>1090</th>\n",
       "      <td>-1.0</td>\n",
       "      <td>10</td>\n",
       "      <td>-1.0</td>\n",
       "      <td>1</td>\n",
       "      <td>5</td>\n",
       "      <td>10</td>\n",
       "      <td>118.0</td>\n",
       "      <td>2</td>\n",
       "      <td>5</td>\n",
       "      <td>12</td>\n",
       "      <td>685.0</td>\n",
       "    </tr>\n",
       "    <tr>\n",
       "      <th>674</th>\n",
       "      <td>-1.0</td>\n",
       "      <td>20</td>\n",
       "      <td>-1.0</td>\n",
       "      <td>1</td>\n",
       "      <td>5</td>\n",
       "      <td>20</td>\n",
       "      <td>152.0</td>\n",
       "      <td>5</td>\n",
       "      <td>5</td>\n",
       "      <td>1</td>\n",
       "      <td>-1.0</td>\n",
       "    </tr>\n",
       "  </tbody>\n",
       "</table>\n",
       "</div>"
      ],
      "text/plain": [
       "       no  Nama Partai  Nama Calon Legislatif  Jenis KeLamin  Kecamatan  \\\n",
       "188  -1.0           26                   -1.0              1          2   \n",
       "809  -1.0           29                   -1.0              1          4   \n",
       "1584 -1.0            3                   -1.0              1          4   \n",
       "1090 -1.0           10                   -1.0              1          5   \n",
       "674  -1.0           20                   -1.0              1          5   \n",
       "\n",
       "      No Urut Parpol  Suara Sah Partai  Jumlah Perolehan Kursi  \\\n",
       "188               26              46.0                       2   \n",
       "809               29              85.0                       8   \n",
       "1584               3             106.0                       2   \n",
       "1090              10             118.0                       2   \n",
       "674               20             152.0                       5   \n",
       "\n",
       "      Daerah Pemilihan  No Urut Caleg  Suara Sah Caleg  \n",
       "188                  2              1            156.0  \n",
       "809                  4              7             -1.0  \n",
       "1584                 4              5             -1.0  \n",
       "1090                 5             12            685.0  \n",
       "674                  5              1             -1.0  "
      ]
     },
     "execution_count": 18,
     "metadata": {},
     "output_type": "execute_result"
    }
   ],
   "source": [
    "X_test.head()"
   ]
  },
  {
   "cell_type": "code",
   "execution_count": 19,
   "metadata": {},
   "outputs": [],
   "source": [
    "#Decision Tree Classifier with criterion gini index\n",
    "# import DecisionTreeClassifier\n",
    "from sklearn.tree import DecisionTreeClassifier"
   ]
  },
  {
   "cell_type": "code",
   "execution_count": 20,
   "metadata": {},
   "outputs": [
    {
     "data": {
      "text/plain": [
       "DecisionTreeClassifier(max_depth=3, random_state=0)"
      ]
     },
     "execution_count": 20,
     "metadata": {},
     "output_type": "execute_result"
    }
   ],
   "source": [
    "# instantiate the DecisionTreeClassifier model with criterion gini index\n",
    "clf_gini = DecisionTreeClassifier(criterion='gini', max_depth=3, random_state=0)\n",
    "\n",
    "# fit the model\n",
    "clf_gini.fit(X_train, y_train)"
   ]
  },
  {
   "cell_type": "code",
   "execution_count": 21,
   "metadata": {},
   "outputs": [],
   "source": [
    "#Predict the Test set results with criterion gini index\n",
    "y_pred_gini = clf_gini.predict(X_test)"
   ]
  },
  {
   "cell_type": "code",
   "execution_count": 22,
   "metadata": {},
   "outputs": [
    {
     "name": "stdout",
     "output_type": "stream",
     "text": [
      "Model accuracy score with criterion gini index: 0.9453\n"
     ]
    }
   ],
   "source": [
    "#Check accuracy score with criterion gini index\n",
    "from sklearn.metrics import accuracy_score\n",
    "print('Model accuracy score with criterion gini index: {0:0.4f}'. format(accuracy_score(y_test, y_pred_gini)))"
   ]
  },
  {
   "cell_type": "code",
   "execution_count": 23,
   "metadata": {},
   "outputs": [
    {
     "data": {
      "text/plain": [
       "array(['TIDAK', 'TIDAK', 'TIDAK', ..., 'TIDAK', 'TIDAK', 'TIDAK'],\n",
       "      dtype=object)"
      ]
     },
     "execution_count": 23,
     "metadata": {},
     "output_type": "execute_result"
    }
   ],
   "source": [
    "#Compare the train-set and test-set accuracy\n",
    "y_pred_train_gini = clf_gini.predict(X_train)\n",
    "y_pred_train_gini"
   ]
  },
  {
   "cell_type": "code",
   "execution_count": 24,
   "metadata": {},
   "outputs": [
    {
     "name": "stdout",
     "output_type": "stream",
     "text": [
      "Training-set accuracy score: 0.9631\n"
     ]
    }
   ],
   "source": [
    "print('Training-set accuracy score: {0:0.4f}'. format(accuracy_score(y_train, y_pred_train_gini)))"
   ]
  },
  {
   "cell_type": "code",
   "execution_count": 25,
   "metadata": {},
   "outputs": [
    {
     "name": "stdout",
     "output_type": "stream",
     "text": [
      "Training set score: 0.9631\n",
      "Test set score: 0.9453\n"
     ]
    }
   ],
   "source": [
    "#Check for overfitting and underfitting\n",
    "# print the scores on training and test set\n",
    "print('Training set score: {:.4f}'.format(clf_gini.score(X_train, y_train)))\n",
    "print('Test set score: {:.4f}'.format(clf_gini.score(X_test, y_test)))"
   ]
  },
  {
   "cell_type": "code",
   "execution_count": 26,
   "metadata": {},
   "outputs": [
    {
     "data": {
      "text/plain": [
       "[Text(334.8, 380.52, 'X[7] <= 5.5\\ngini = 0.073\\nsamples = 1518\\nvalue = [1460, 58]'),\n",
       " Text(167.4, 271.8, 'X[10] <= 531.5\\ngini = 0.037\\nsamples = 1325\\nvalue = [1300, 25]'),\n",
       " Text(83.7, 163.07999999999998, 'X[7] <= 2.5\\ngini = 0.009\\nsamples = 1073\\nvalue = [1068, 5]'),\n",
       " Text(41.85, 54.360000000000014, 'gini = 0.002\\nsamples = 852\\nvalue = [851, 1]'),\n",
       " Text(125.55000000000001, 54.360000000000014, 'gini = 0.036\\nsamples = 221\\nvalue = [217, 4]'),\n",
       " Text(251.10000000000002, 163.07999999999998, 'X[7] <= 2.5\\ngini = 0.146\\nsamples = 252\\nvalue = [232, 20]'),\n",
       " Text(209.25, 54.360000000000014, 'gini = 0.031\\nsamples = 127\\nvalue = [125, 2]'),\n",
       " Text(292.95, 54.360000000000014, 'gini = 0.247\\nsamples = 125\\nvalue = [107, 18]'),\n",
       " Text(502.20000000000005, 271.8, 'X[1] <= 21.0\\ngini = 0.283\\nsamples = 193\\nvalue = [160, 33]'),\n",
       " Text(418.5, 163.07999999999998, 'X[9] <= 12.5\\ngini = 0.45\\nsamples = 73\\nvalue = [48, 25]'),\n",
       " Text(376.65000000000003, 54.360000000000014, 'gini = 0.499\\nsamples = 40\\nvalue = [19, 21]'),\n",
       " Text(460.35, 54.360000000000014, 'gini = 0.213\\nsamples = 33\\nvalue = [29, 4]'),\n",
       " Text(585.9, 163.07999999999998, 'X[10] <= 776.5\\ngini = 0.124\\nsamples = 120\\nvalue = [112, 8]'),\n",
       " Text(544.0500000000001, 54.360000000000014, 'gini = 0.099\\nsamples = 115\\nvalue = [109, 6]'),\n",
       " Text(627.75, 54.360000000000014, 'gini = 0.48\\nsamples = 5\\nvalue = [3, 2]')]"
      ]
     },
     "execution_count": 26,
     "metadata": {},
     "output_type": "execute_result"
    },
    {
     "data": {
      "image/png": "[encoded data removed]",
      "text/plain": [
       "<Figure size 864x576 with 1 Axes>"
      ]
     },
     "metadata": {
      "needs_background": "light"
     },
     "output_type": "display_data"
    }
   ],
   "source": [
    "#Visualize decision-trees\n",
    "plt.figure(figsize=(12,8))\n",
    "\n",
    "from sklearn import tree\n",
    "tree.plot_tree(clf_gini.fit(X_train, y_train)) "
   ]
  },
  {
   "cell_type": "code",
   "execution_count": 27,
   "metadata": {},
   "outputs": [
    {
     "data": {
      "text/plain": [
       "DecisionTreeClassifier(criterion='entropy', max_depth=3, random_state=0)"
      ]
     },
     "execution_count": 27,
     "metadata": {},
     "output_type": "execute_result"
    }
   ],
   "source": [
    "#Decision Tree Classifier with criterion entropy\n",
    "# instantiate the DecisionTreeClassifier model with criterion entropy\n",
    "clf_en = DecisionTreeClassifier(criterion='entropy', max_depth=3, random_state=0)\n",
    "\n",
    "# fit the model\n",
    "clf_en.fit(X_train, y_train)"
   ]
  },
  {
   "cell_type": "code",
   "execution_count": 28,
   "metadata": {},
   "outputs": [],
   "source": [
    "#Predict the Test set results with criterion entropy\n",
    "y_pred_en = clf_en.predict(X_test)"
   ]
  },
  {
   "cell_type": "code",
   "execution_count": 29,
   "metadata": {},
   "outputs": [
    {
     "name": "stdout",
     "output_type": "stream",
     "text": [
      "Model accuracy score with criterion entropy: 0.9519\n"
     ]
    }
   ],
   "source": [
    "#Check accuracy score with criterion entropy\n",
    "from sklearn.metrics import accuracy_score\n",
    "print('Model accuracy score with criterion entropy: {0:0.4f}'. format(accuracy_score(y_test, y_pred_en)))"
   ]
  },
  {
   "cell_type": "code",
   "execution_count": 30,
   "metadata": {},
   "outputs": [
    {
     "data": {
      "text/plain": [
       "array(['TIDAK', 'TIDAK', 'TIDAK', ..., 'TIDAK', 'TIDAK', 'TIDAK'],\n",
       "      dtype=object)"
      ]
     },
     "execution_count": 30,
     "metadata": {},
     "output_type": "execute_result"
    }
   ],
   "source": [
    "#Compare the train-set and test-set accuracy\n",
    "y_pred_train_en = clf_en.predict(X_train)\n",
    "\n",
    "y_pred_train_en"
   ]
  },
  {
   "cell_type": "code",
   "execution_count": 31,
   "metadata": {},
   "outputs": [
    {
     "name": "stdout",
     "output_type": "stream",
     "text": [
      "Training-set accuracy score: 0.9618\n"
     ]
    }
   ],
   "source": [
    "print('Training-set accuracy score: {0:0.4f}'. format(accuracy_score(y_train, y_pred_train_en)))"
   ]
  },
  {
   "cell_type": "code",
   "execution_count": 32,
   "metadata": {},
   "outputs": [
    {
     "name": "stdout",
     "output_type": "stream",
     "text": [
      "Training set score: 0.9618\n",
      "Test set score: 0.9519\n"
     ]
    }
   ],
   "source": [
    "#Check for overfitting and underfitting\n",
    "# print the scores on training and test set\n",
    "print('Training set score: {:.4f}'.format(clf_en.score(X_train, y_train)))\n",
    "print('Test set score: {:.4f}'.format(clf_en.score(X_test, y_test)))"
   ]
  },
  {
   "cell_type": "code",
   "execution_count": 33,
   "metadata": {},
   "outputs": [
    {
     "data": {
      "text/plain": [
       "[Text(306.90000000000003, 380.52, 'X[7] <= 2.5\\nentropy = 0.234\\nsamples = 1518\\nvalue = [1460, 58]'),\n",
       " Text(167.4, 271.8, 'X[7] <= 1.5\\nentropy = 0.03\\nsamples = 979\\nvalue = [976, 3]'),\n",
       " Text(111.60000000000001, 163.07999999999998, 'X[10] <= 568.5\\nentropy = 0.168\\nsamples = 121\\nvalue = [118, 3]'),\n",
       " Text(55.800000000000004, 54.360000000000014, 'entropy = 0.081\\nsamples = 100\\nvalue = [99, 1]'),\n",
       " Text(167.4, 54.360000000000014, 'entropy = 0.454\\nsamples = 21\\nvalue = [19, 2]'),\n",
       " Text(223.20000000000002, 163.07999999999998, 'entropy = 0.0\\nsamples = 858\\nvalue = [858, 0]'),\n",
       " Text(446.40000000000003, 271.8, 'X[9] <= 12.5\\nentropy = 0.475\\nsamples = 539\\nvalue = [484, 55]'),\n",
       " Text(334.8, 163.07999999999998, 'X[6] <= 65.5\\nentropy = 0.629\\nsamples = 304\\nvalue = [256, 48]'),\n",
       " Text(279.0, 54.360000000000014, 'entropy = 0.83\\nsamples = 122\\nvalue = [90, 32]'),\n",
       " Text(390.6, 54.360000000000014, 'entropy = 0.429\\nsamples = 182\\nvalue = [166, 16]'),\n",
       " Text(558.0, 163.07999999999998, 'X[1] <= 11.0\\nentropy = 0.193\\nsamples = 235\\nvalue = [228, 7]'),\n",
       " Text(502.20000000000005, 54.360000000000014, 'entropy = 0.0\\nsamples = 87\\nvalue = [87, 0]'),\n",
       " Text(613.8000000000001, 54.360000000000014, 'entropy = 0.275\\nsamples = 148\\nvalue = [141, 7]')]"
      ]
     },
     "execution_count": 33,
     "metadata": {},
     "output_type": "execute_result"
    },
    {
     "data": {
      "image/png": "[encoded data removed]",
      "text/plain": [
       "<Figure size 864x576 with 1 Axes>"
      ]
     },
     "metadata": {
      "needs_background": "light"
     },
     "output_type": "display_data"
    }
   ],
   "source": [
    "#Visualize decision-trees\n",
    "plt.figure(figsize=(12,8))\n",
    "\n",
    "from sklearn import tree\n",
    "tree.plot_tree(clf_en.fit(X_train, y_train)) "
   ]
  },
  {
   "cell_type": "code",
   "execution_count": 34,
   "metadata": {},
   "outputs": [
    {
     "name": "stdout",
     "output_type": "stream",
     "text": [
      "Confusion matrix\n",
      "\n",
      " [[713   0]\n",
      " [ 36   0]]\n"
     ]
    }
   ],
   "source": [
    "#Confusion matrix\n",
    "# Print the Confusion Matrix and slice it into four pieces\n",
    "from sklearn.metrics import confusion_matrix\n",
    "cm = confusion_matrix(y_test, y_pred_en)\n",
    "print('Confusion matrix\\n\\n', cm)"
   ]
  },
  {
   "cell_type": "code",
   "execution_count": 35,
   "metadata": {},
   "outputs": [
    {
     "name": "stdout",
     "output_type": "stream",
     "text": [
      "              precision    recall  f1-score   support\n",
      "\n",
      "       TIDAK       0.95      1.00      0.98       713\n",
      "          YA       0.00      0.00      0.00        36\n",
      "\n",
      "    accuracy                           0.95       749\n",
      "   macro avg       0.48      0.50      0.49       749\n",
      "weighted avg       0.91      0.95      0.93       749\n",
      "\n"
     ]
    }
   ],
   "source": [
    "#Classification Report\n",
    "from sklearn.metrics import classification_report\n",
    "print(classification_report(y_test, y_pred_en))"
   ]
  },
  {
   "cell_type": "code",
   "execution_count": null,
   "metadata": {},
   "outputs": [],
   "source": []
  }
 ],
 "metadata": {
  "kernelspec": {
   "display_name": "Python 3",
   "language": "python",
   "name": "python3"
  },
  "language_info": {
   "codemirror_mode": {
    "name": "ipython",
    "version": 3
   },
   "file_extension": ".py",
   "mimetype": "text/x-python",
   "name": "python",
   "nbconvert_exporter": "python",
   "pygments_lexer": "ipython3",
   "version": "3.8.3"
  }
 },
 "nbformat": 4,
 "nbformat_minor": 4
}
